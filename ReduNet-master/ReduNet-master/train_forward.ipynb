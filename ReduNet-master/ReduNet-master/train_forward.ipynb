{
 "cells": [
  {
   "cell_type": "code",
   "execution_count": 2,
   "source": [
    "import argparse\r\n",
    "import os\r\n",
    "\r\n",
    "import torch\r\n",
    "import torch.nn as nn\r\n",
    "\r\n",
    "\r\n",
    "from redunet import *\r\n",
    "import evaluate\r\n",
    "import load as L\r\n",
    "import functional as F\r\n",
    "import utils\r\n",
    "import plot"
   ],
   "outputs": [],
   "metadata": {}
  },
  {
   "cell_type": "markdown",
   "source": [
    "## Arguement Setup"
   ],
   "metadata": {}
  },
  {
   "cell_type": "code",
   "execution_count": 3,
   "source": [
    "parser = argparse.ArgumentParser()\r\n",
    "parser.add_argument('--data', type=str, required=True, help='choice of dataset')\r\n",
    "parser.add_argument('--arch', type=str, required=True, help='choice of architecture')\r\n",
    "parser.add_argument('--samples', type=int, required=True, help=\"number of samples per update\")\r\n",
    "parser.add_argument('--tail', type=str, default='', help='extra information to add to folder name')\r\n",
    "parser.add_argument('--save_dir', type=str, default='./saved_models/', help='base directory for saving.')\r\n",
    "parser.add_argument('--data_dir', type=str, default='./data/', help='base directory for saving.')\r\n",
    "#args = parser.parse_args()"
   ],
   "outputs": [
    {
     "output_type": "execute_result",
     "data": {
      "text/plain": [
       "_StoreAction(option_strings=['--data_dir'], dest='data_dir', nargs=None, const=None, default='./data/', type=<class 'str'>, choices=None, help='base directory for saving.', metavar=None)"
      ]
     },
     "metadata": {},
     "execution_count": 3
    }
   ],
   "metadata": {}
  },
  {
   "cell_type": "code",
   "execution_count": 4,
   "source": [
    "#args = parser.parse_args(--data mnisvector --arch layers50 --samples 1000)\r\n",
    "args = parser.parse_args(\r\n",
    "    args=['--data', 'mnist2d_2class', '--arch', 'layers50', '--samples', '1000']\r\n",
    "    )"
   ],
   "outputs": [],
   "metadata": {}
  },
  {
   "cell_type": "code",
   "execution_count": 5,
   "source": [
    "device = torch.device('cuda') if torch.cuda.is_available() else torch.device('cpu')"
   ],
   "outputs": [],
   "metadata": {}
  },
  {
   "cell_type": "code",
   "execution_count": 6,
   "source": [
    "torch.cuda.is_available()"
   ],
   "outputs": [
    {
     "output_type": "execute_result",
     "data": {
      "text/plain": [
       "True"
      ]
     },
     "metadata": {},
     "execution_count": 6
    }
   ],
   "metadata": {}
  },
  {
   "cell_type": "code",
   "execution_count": 7,
   "source": [
    "model_dir = os.path.join(args.save_dir, \r\n",
    "                         'forward',\r\n",
    "                         f'{args.data}+{args.arch}',\r\n",
    "                         f'samples{args.samples}'\r\n",
    "                         f'{args.tail}')\r\n",
    "os.makedirs(model_dir, exist_ok=True)\r\n",
    "utils.save_params(model_dir, vars(args))\r\n",
    "print(model_dir)"
   ],
   "outputs": [
    {
     "output_type": "stream",
     "name": "stdout",
     "text": [
      "./saved_models/forward\\mnist2d_2class+layers50\\samples1000\n"
     ]
    }
   ],
   "metadata": {}
  },
  {
   "cell_type": "markdown",
   "source": [
    "## Datasets"
   ],
   "metadata": {}
  },
  {
   "cell_type": "code",
   "execution_count": 9,
   "source": [
    "print(args.data_dir)\r\n",
    "device"
   ],
   "outputs": [
    {
     "output_type": "stream",
     "name": "stdout",
     "text": [
      "./data/\n"
     ]
    },
    {
     "output_type": "execute_result",
     "data": {
      "text/plain": [
       "device(type='cuda')"
      ]
     },
     "metadata": {},
     "execution_count": 9
    }
   ],
   "metadata": {}
  },
  {
   "cell_type": "code",
   "execution_count": 8,
   "source": [
    "trainset, testset, num_classes = L.load_dataset(args.data, data_dir=args.data_dir)\r\n",
    "#trainset, testset, num_classes = L.load_dataset(\"minst2d_5class\", data_dir=args.data_dir)\r\n",
    "X_train, y_train = F.get_samples(trainset, args.samples)\r\n",
    "X_train, y_train = X_train.to(device), y_train.to(device)"
   ],
   "outputs": [],
   "metadata": {}
  },
  {
   "cell_type": "markdown",
   "source": [
    "## Architecture"
   ],
   "metadata": {}
  },
  {
   "cell_type": "code",
   "execution_count": null,
   "source": [
    "net = L.load_architecture(args.data, args.arch)\r\n",
    "net = net.to(device)"
   ],
   "outputs": [],
   "metadata": {}
  },
  {
   "cell_type": "markdown",
   "source": [
    "## Training"
   ],
   "metadata": {}
  },
  {
   "cell_type": "code",
   "execution_count": null,
   "source": [
    "with torch.no_grad():\r\n",
    "    Z_train = net.init(X_train, y_train)\r\n",
    "    losses_train = net.get_loss()\r\n",
    "    X_train, Z_train = F.to_cpu(X_train, Z_train)"
   ],
   "outputs": [],
   "metadata": {}
  },
  {
   "cell_type": "code",
   "execution_count": null,
   "source": [
    "plot.plot_loss_mcr(model_dir, 'train')"
   ],
   "outputs": [],
   "metadata": {}
  },
  {
   "cell_type": "markdown",
   "source": [],
   "metadata": {}
  }
 ],
 "metadata": {
  "orig_nbformat": 4,
  "language_info": {
   "name": "python",
   "version": "3.8.11",
   "mimetype": "text/x-python",
   "codemirror_mode": {
    "name": "ipython",
    "version": 3
   },
   "pygments_lexer": "ipython3",
   "nbconvert_exporter": "python",
   "file_extension": ".py"
  },
  "kernelspec": {
   "name": "python3",
   "display_name": "Python 3.8.11 64-bit ('python3': conda)"
  },
  "interpreter": {
   "hash": "22e0a8c616569b3b71d3c4b91a0bce965f10415b04d1ff541461cb7966726446"
  }
 },
 "nbformat": 4,
 "nbformat_minor": 2
}