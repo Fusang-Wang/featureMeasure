{
 "cells": [
  {
   "cell_type": "code",
   "execution_count": 1,
   "source": [
    "import argparse\r\n",
    "import os\r\n",
    "\r\n",
    "import torch\r\n",
    "import torch.nn as nn\r\n",
    "\r\n",
    "\r\n",
    "from redunet import *\r\n",
    "import evaluate\r\n",
    "import load as L\r\n",
    "import functional as F\r\n",
    "import utils\r\n",
    "import plot"
   ],
   "outputs": [],
   "metadata": {}
  },
  {
   "cell_type": "code",
   "execution_count": 2,
   "source": [
    "parser = argparse.ArgumentParser()\r\n",
    "parser.add_argument('--data', type=str, required=True, help='choice of dataset')\r\n",
    "parser.add_argument('--arch', type=str, required=True, help='choice of architecture')\r\n",
    "parser.add_argument('--samples', type=int, required=True, help=\"number of samples per update\")\r\n",
    "parser.add_argument('--tail', type=str, default='', help='extra information to add to folder name')\r\n",
    "parser.add_argument('--save_dir', type=str, default='./saved_models/', help='base directory for saving.')\r\n",
    "parser.add_argument('--data_dir', type=str, default='./data/', help='base directory for saving.')"
   ],
   "outputs": [
    {
     "output_type": "execute_result",
     "data": {
      "text/plain": [
       "_StoreAction(option_strings=['--data_dir'], dest='data_dir', nargs=None, const=None, default='./data/', type=<class 'str'>, choices=None, help='base directory for saving.', metavar=None)"
      ]
     },
     "metadata": {},
     "execution_count": 2
    }
   ],
   "metadata": {}
  },
  {
   "cell_type": "markdown",
   "source": [
    "## Arguement Setup"
   ],
   "metadata": {}
  },
  {
   "cell_type": "code",
   "execution_count": 3,
   "source": [
    "args = parser.parse_args(\r\n",
    "['--data', 'mnistvector', '--arch', 'layers50', '--samples', '1000']\r\n",
    ")\r\n"
   ],
   "outputs": [],
   "metadata": {}
  },
  {
   "cell_type": "markdown",
   "source": [
    "## CUDA"
   ],
   "metadata": {}
  },
  {
   "cell_type": "code",
   "execution_count": 4,
   "source": [
    "device = torch.device('cuda') if torch.cuda.is_available() else torch.device('cpu')\r\n",
    "device"
   ],
   "outputs": [
    {
     "output_type": "execute_result",
     "data": {
      "text/plain": [
       "device(type='cuda')"
      ]
     },
     "metadata": {},
     "execution_count": 4
    }
   ],
   "metadata": {}
  },
  {
   "cell_type": "markdown",
   "source": [
    "## Model Directory"
   ],
   "metadata": {}
  },
  {
   "cell_type": "code",
   "execution_count": 5,
   "source": [
    "model_dir = os.path.join(args.save_dir, \r\n",
    "                         'forward',\r\n",
    "                         f'{args.data}+{args.arch}',\r\n",
    "                         f'samples{args.samples}'\r\n",
    "                         f'{args.tail}')\r\n",
    "os.makedirs(model_dir, exist_ok=True)\r\n",
    "utils.save_params(model_dir, vars(args))\r\n",
    "print(model_dir)"
   ],
   "outputs": [
    {
     "output_type": "stream",
     "name": "stdout",
     "text": [
      "./saved_models/forward\\mnistvector+layers50\\samples1000\n"
     ]
    }
   ],
   "metadata": {}
  },
  {
   "cell_type": "markdown",
   "source": [
    "## Data"
   ],
   "metadata": {}
  },
  {
   "cell_type": "code",
   "execution_count": 6,
   "source": [
    "trainset, testset, num_classes = L.load_dataset(args.data, data_dir=args.data_dir)\r\n",
    "X_train, y_train = F.get_samples(trainset, args.samples)\r\n",
    "X_train, y_train = X_train.to(device), y_train.to(device)"
   ],
   "outputs": [
    {
     "output_type": "stream",
     "name": "stderr",
     "text": [
      "  0%|          | 0/9912422 [00:00<?, ?it/s]"
     ]
    },
    {
     "output_type": "stream",
     "name": "stdout",
     "text": [
      "Downloading http://yann.lecun.com/exdb/mnist/train-images-idx3-ubyte.gz\n",
      "Downloading http://yann.lecun.com/exdb/mnist/train-images-idx3-ubyte.gz to ./data/MNIST\\raw\\train-images-idx3-ubyte.gz\n"
     ]
    },
    {
     "output_type": "stream",
     "name": "stderr",
     "text": [
      "9913344it [00:00, 11514874.47it/s]                             \n"
     ]
    },
    {
     "output_type": "stream",
     "name": "stdout",
     "text": [
      "Extracting ./data/MNIST\\raw\\train-images-idx3-ubyte.gz to ./data/MNIST\\raw\n"
     ]
    },
    {
     "output_type": "stream",
     "name": "stderr",
     "text": [
      "29696it [00:00, 29804750.32it/s]         "
     ]
    },
    {
     "output_type": "stream",
     "name": "stdout",
     "text": [
      "\n",
      "Downloading http://yann.lecun.com/exdb/mnist/train-labels-idx1-ubyte.gz\n",
      "Downloading http://yann.lecun.com/exdb/mnist/train-labels-idx1-ubyte.gz to ./data/MNIST\\raw\\train-labels-idx1-ubyte.gz\n",
      "Extracting ./data/MNIST\\raw\\train-labels-idx1-ubyte.gz to ./data/MNIST\\raw\n",
      "\n",
      "Downloading http://yann.lecun.com/exdb/mnist/t10k-images-idx3-ubyte.gz\n",
      "Downloading http://yann.lecun.com/exdb/mnist/t10k-images-idx3-ubyte.gz to ./data/MNIST\\raw\\t10k-images-idx3-ubyte.gz\n"
     ]
    },
    {
     "output_type": "stream",
     "name": "stderr",
     "text": [
      "\n",
      "1649664it [00:00, 13345842.95it/s]                             \n",
      "5120it [00:00, 5039858.36it/s]          "
     ]
    },
    {
     "output_type": "stream",
     "name": "stdout",
     "text": [
      "Extracting ./data/MNIST\\raw\\t10k-images-idx3-ubyte.gz to ./data/MNIST\\raw\n",
      "\n",
      "Downloading http://yann.lecun.com/exdb/mnist/t10k-labels-idx1-ubyte.gz\n",
      "Downloading http://yann.lecun.com/exdb/mnist/t10k-labels-idx1-ubyte.gz to ./data/MNIST\\raw\\t10k-labels-idx1-ubyte.gz\n",
      "Extracting ./data/MNIST\\raw\\t10k-labels-idx1-ubyte.gz to ./data/MNIST\\raw\n"
     ]
    },
    {
     "output_type": "stream",
     "name": "stderr",
     "text": [
      "\n",
      "C:\\anaconda\\envs\\python3\\lib\\site-packages\\torchvision\\datasets\\mnist.py:498: UserWarning: The given NumPy array is not writeable, and PyTorch does not support non-writeable tensors. This means you can write to the underlying (supposedly non-writeable) NumPy array using the tensor. You may want to copy the array to protect its data or make it writeable before converting it to a tensor. This type of warning will be suppressed for the rest of this program. (Triggered internally at  ..\\torch\\csrc\\utils\\tensor_numpy.cpp:180.)\n",
      "  return torch.from_numpy(parsed.astype(m[2], copy=False)).view(*s)\n"
     ]
    },
    {
     "output_type": "stream",
     "name": "stdout",
     "text": [
      "\n"
     ]
    }
   ],
   "metadata": {}
  },
  {
   "cell_type": "markdown",
   "source": [
    "## Architectur"
   ],
   "metadata": {}
  },
  {
   "cell_type": "code",
   "execution_count": 7,
   "source": [
    "net = L.load_architecture(args.data, args.arch)\r\n",
    "net = net.to(device)"
   ],
   "outputs": [],
   "metadata": {}
  },
  {
   "cell_type": "code",
   "execution_count": 8,
   "source": [
    "with torch.no_grad():\r\n",
    "    Z_train = net.init(X_train, y_train)\r\n",
    "    losses_train = net.get_loss()\r\n",
    "    X_train, Z_train = F.to_cpu(X_train, Z_train)"
   ],
   "outputs": [
    {
     "output_type": "stream",
     "name": "stdout",
     "text": [
      "0 | 85.450424 289.671265 204.220840\n",
      "1 | 98.485947 301.172058 202.686111\n",
      "2 | 113.187408 314.530212 201.342804\n",
      "3 | 129.490341 329.732544 200.242203\n",
      "4 | 147.266739 346.672516 199.405777\n",
      "5 | 166.326157 365.155396 198.829239\n",
      "6 | 186.423218 384.914154 198.490936\n",
      "7 | 207.273956 405.637634 198.363678\n",
      "8 | 228.578842 426.997131 198.418289\n",
      "9 | 250.043884 448.670197 198.626312\n",
      "10 | 271.398010 470.357239 198.959229\n",
      "11 | 292.405685 491.794800 199.389114\n",
      "12 | 312.865326 512.752136 199.886810\n",
      "13 | 332.616425 533.039795 200.423370\n",
      "14 | 351.541672 552.515625 200.973953\n",
      "15 | 369.564331 571.082825 201.518494\n",
      "16 | 386.648727 588.692017 202.043289\n",
      "17 | 402.781631 605.319702 202.538071\n",
      "18 | 417.974091 620.970764 202.996674\n",
      "19 | 432.241547 635.656860 203.415314\n",
      "20 | 445.605835 649.398132 203.792297\n",
      "21 | 458.095764 662.223145 204.127380\n",
      "22 | 469.743958 674.164551 204.420593\n",
      "23 | 480.587021 685.259033 204.672012\n",
      "24 | 490.666199 695.548828 204.882629\n",
      "25 | 500.026672 705.080322 205.053650\n",
      "26 | 508.721039 713.907837 205.186798\n",
      "27 | 516.805054 722.088379 205.283325\n",
      "28 | 524.329086 729.673828 205.344742\n",
      "29 | 531.340088 736.714783 205.374695\n",
      "30 | 537.877060 743.255371 205.378311\n",
      "31 | 543.979996 749.340149 205.360153\n",
      "32 | 549.685043 755.006714 205.321671\n",
      "33 | 555.028671 760.290222 205.261551\n",
      "34 | 560.047668 765.225708 205.178040\n",
      "35 | 564.771042 769.840698 205.069656\n",
      "36 | 569.226410 774.164246 204.937836\n",
      "37 | 573.437332 778.223877 204.786545\n",
      "38 | 577.423325 782.044067 204.620743\n",
      "39 | 581.207840 785.652100 204.444260\n",
      "40 | 584.816437 789.074829 204.258392\n",
      "41 | 588.277130 792.338562 204.061432\n",
      "42 | 591.611908 795.462830 203.850922\n",
      "43 | 594.835953 798.461792 203.625839\n",
      "44 | 597.956818 801.344849 203.388031\n",
      "45 | 600.973602 804.114136 203.140533\n",
      "46 | 603.887924 806.775574 202.887650\n",
      "47 | 606.698563 809.331848 202.633286\n",
      "48 | 609.405731 811.786377 202.380646\n",
      "49 | 612.011353 814.142944 202.131592\n"
     ]
    }
   ],
   "metadata": {}
  },
  {
   "cell_type": "markdown",
   "source": [
    "\r\n",
    "## Saving"
   ],
   "metadata": {}
  },
  {
   "cell_type": "code",
   "execution_count": 9,
   "source": [
    "utils.save_loss(model_dir, 'train', losses_train)\r\n",
    "utils.save_ckpt(model_dir, 'model', net)"
   ],
   "outputs": [],
   "metadata": {}
  },
  {
   "cell_type": "code",
   "execution_count": 10,
   "source": [
    "plot.plot_loss_mcr(model_dir, 'train')"
   ],
   "outputs": [
    {
     "output_type": "stream",
     "name": "stdout",
     "text": [
      "Plot saved to: ./saved_models/forward\\mnistvector+layers50\\samples1000\\figures\\loss_mcr\\train.png\n"
     ]
    }
   ],
   "metadata": {}
  },
  {
   "cell_type": "markdown",
   "source": [],
   "metadata": {}
  }
 ],
 "metadata": {
  "orig_nbformat": 4,
  "language_info": {
   "name": "python",
   "version": "3.8.11",
   "mimetype": "text/x-python",
   "codemirror_mode": {
    "name": "ipython",
    "version": 3
   },
   "pygments_lexer": "ipython3",
   "nbconvert_exporter": "python",
   "file_extension": ".py"
  },
  "kernelspec": {
   "name": "python3",
   "display_name": "Python 3.8.11 64-bit ('python3': conda)"
  },
  "interpreter": {
   "hash": "22e0a8c616569b3b71d3c4b91a0bce965f10415b04d1ff541461cb7966726446"
  }
 },
 "nbformat": 4,
 "nbformat_minor": 2
}